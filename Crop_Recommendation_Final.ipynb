{
  "nbformat": 4,
  "nbformat_minor": 0,
  "metadata": {
    "colab": {
      "provenance": [],
      "authorship_tag": "ABX9TyNjr7hvpP0c0af9B8NAKmec",
      "include_colab_link": true
    },
    "kernelspec": {
      "name": "python3",
      "display_name": "Python 3"
    },
    "language_info": {
      "name": "python"
    }
  },
  "cells": [
    {
      "cell_type": "markdown",
      "metadata": {
        "id": "view-in-github",
        "colab_type": "text"
      },
      "source": [
        "<a href=\"https://colab.research.google.com/github/sarabhan/Cropify/blob/main/Crop_Recommendation_Final.ipynb\" target=\"_parent\"><img src=\"https://colab.research.google.com/assets/colab-badge.svg\" alt=\"Open In Colab\"/></a>"
      ]
    },
    {
      "cell_type": "markdown",
      "source": [
        "# In this code block, we:-\n",
        "*   Import libraries\n",
        "*   Import dataset\n",
        "*   Implement line encoding\n",
        "*   Map the numbers to the crop name"
      ],
      "metadata": {
        "id": "eH-i7J2cv1l5"
      }
    },
    {
      "cell_type": "code",
      "execution_count": 2,
      "metadata": {
        "id": "AjOovdk2rRif"
      },
      "outputs": [],
      "source": [
        "#import libraries\n",
        "import numpy as np\n",
        "import pandas as pd\n",
        "from sklearn.model_selection import train_test_split\n",
        "from sklearn.ensemble import RandomForestClassifier\n",
        "from sklearn.linear_model import LogisticRegression\n",
        "from sklearn.metrics import accuracy_score, precision_score, recall_score\n",
        "from sklearn.preprocessing import StandardScaler\n",
        "\n",
        "#reading dataset\n",
        "crop = pd.read_csv(\"Crop_recommendation.csv\")\n",
        "\n",
        "#here we perform line encoding\n",
        "crop_dict = {\n",
        "    'rice': 1, 'maize': 2, 'jute': 3, 'cotton': 4, 'coconut': 5, 'papaya': 6, 'orange': 7,\n",
        "    'apple': 8, 'muskmelon': 9, 'watermelon': 10, 'grapes': 11, 'mango': 12, 'banana': 13,\n",
        "    'pomegranate': 14, 'lentil': 15, 'blackgram': 16, 'mungbean': 17, 'mothbeans': 18,\n",
        "    'pigeonpeas': 19, 'kidneybeans': 20, 'chickpea': 21, 'coffee': 22\n",
        "}\n",
        "#perform mapping\n",
        "crop['crop_num'] = crop['label'].map(crop_dict)"
      ]
    },
    {
      "cell_type": "markdown",
      "source": [
        "# Next, we:-\n",
        "*   Drop the output class from the dataset (create feature and target variable)\n",
        "*   Split into train & test set\n",
        "*   Normalize\n"
      ],
      "metadata": {
        "id": "rTxhB8FuxEoS"
      }
    },
    {
      "cell_type": "code",
      "source": [
        "#train test split\n",
        "x = crop.drop(['crop_num', 'label'], axis=1)\n",
        "y = crop['crop_num']\n",
        "xtrain, xtest, ytrain, ytest = train_test_split(x, y, test_size=0.2, random_state=42)\n",
        "\n",
        "# Normalize\n",
        "scaler = StandardScaler() #mean = 0, sd = 1\n",
        "xtrain_scaled = scaler.fit_transform(xtrain)\n",
        "xtest_scaled = scaler.transform(xtest)"
      ],
      "metadata": {
        "id": "ZTgVQybqu1Kn"
      },
      "execution_count": 3,
      "outputs": []
    },
    {
      "cell_type": "markdown",
      "source": [
        "# Next step:\n",
        "We train & predict using 2 models, i.e. Logistic Regression and Random Forest Classifier"
      ],
      "metadata": {
        "id": "PiBZ-vX1xk7s"
      }
    },
    {
      "cell_type": "code",
      "source": [
        "#train by rfc & logistic\n",
        "rfc = RandomForestClassifier(n_estimators=130, max_depth=5, random_state=40) #100 trees\n",
        "rfc.fit(xtrain_scaled, ytrain)\n",
        "\n",
        "lr = LogisticRegression(C=0.1)  # C is the regularization parameter\n",
        "lr.fit(xtrain_scaled, ytrain)\n",
        "\n",
        "#merge\n",
        "rfc_pred = rfc.predict(xtest_scaled)\n",
        "lr_pred = lr.predict(xtest_scaled)"
      ],
      "metadata": {
        "id": "FzlmVehFuuyM"
      },
      "execution_count": 4,
      "outputs": []
    },
    {
      "cell_type": "markdown",
      "source": [
        "#Next step:\n",
        "We combine predictions of both models into one matrix"
      ],
      "metadata": {
        "id": "gKVg3E7ryfCr"
      }
    },
    {
      "cell_type": "code",
      "source": [
        "#merged prediction dataset\n",
        "xtest_ensemble = np.column_stack((rfc_pred, lr_pred))\n",
        "\n",
        "#train model with new merged dataset\n",
        "meta_model = LogisticRegression(multi_class='multinomial', solver='lbfgs', max_iter=6000)\n",
        "meta_model.fit(xtest_ensemble, ytest)"
      ],
      "metadata": {
        "colab": {
          "base_uri": "https://localhost:8080/",
          "height": 74
        },
        "id": "mzyUIFCbyeYm",
        "outputId": "5777cbcc-6f46-4e56-cc1a-cca49aeb2366"
      },
      "execution_count": 5,
      "outputs": [
        {
          "output_type": "execute_result",
          "data": {
            "text/plain": [
              "LogisticRegression(max_iter=6000, multi_class='multinomial')"
            ],
            "text/html": [
              "<style>#sk-container-id-1 {color: black;background-color: white;}#sk-container-id-1 pre{padding: 0;}#sk-container-id-1 div.sk-toggleable {background-color: white;}#sk-container-id-1 label.sk-toggleable__label {cursor: pointer;display: block;width: 100%;margin-bottom: 0;padding: 0.3em;box-sizing: border-box;text-align: center;}#sk-container-id-1 label.sk-toggleable__label-arrow:before {content: \"▸\";float: left;margin-right: 0.25em;color: #696969;}#sk-container-id-1 label.sk-toggleable__label-arrow:hover:before {color: black;}#sk-container-id-1 div.sk-estimator:hover label.sk-toggleable__label-arrow:before {color: black;}#sk-container-id-1 div.sk-toggleable__content {max-height: 0;max-width: 0;overflow: hidden;text-align: left;background-color: #f0f8ff;}#sk-container-id-1 div.sk-toggleable__content pre {margin: 0.2em;color: black;border-radius: 0.25em;background-color: #f0f8ff;}#sk-container-id-1 input.sk-toggleable__control:checked~div.sk-toggleable__content {max-height: 200px;max-width: 100%;overflow: auto;}#sk-container-id-1 input.sk-toggleable__control:checked~label.sk-toggleable__label-arrow:before {content: \"▾\";}#sk-container-id-1 div.sk-estimator input.sk-toggleable__control:checked~label.sk-toggleable__label {background-color: #d4ebff;}#sk-container-id-1 div.sk-label input.sk-toggleable__control:checked~label.sk-toggleable__label {background-color: #d4ebff;}#sk-container-id-1 input.sk-hidden--visually {border: 0;clip: rect(1px 1px 1px 1px);clip: rect(1px, 1px, 1px, 1px);height: 1px;margin: -1px;overflow: hidden;padding: 0;position: absolute;width: 1px;}#sk-container-id-1 div.sk-estimator {font-family: monospace;background-color: #f0f8ff;border: 1px dotted black;border-radius: 0.25em;box-sizing: border-box;margin-bottom: 0.5em;}#sk-container-id-1 div.sk-estimator:hover {background-color: #d4ebff;}#sk-container-id-1 div.sk-parallel-item::after {content: \"\";width: 100%;border-bottom: 1px solid gray;flex-grow: 1;}#sk-container-id-1 div.sk-label:hover label.sk-toggleable__label {background-color: #d4ebff;}#sk-container-id-1 div.sk-serial::before {content: \"\";position: absolute;border-left: 1px solid gray;box-sizing: border-box;top: 0;bottom: 0;left: 50%;z-index: 0;}#sk-container-id-1 div.sk-serial {display: flex;flex-direction: column;align-items: center;background-color: white;padding-right: 0.2em;padding-left: 0.2em;position: relative;}#sk-container-id-1 div.sk-item {position: relative;z-index: 1;}#sk-container-id-1 div.sk-parallel {display: flex;align-items: stretch;justify-content: center;background-color: white;position: relative;}#sk-container-id-1 div.sk-item::before, #sk-container-id-1 div.sk-parallel-item::before {content: \"\";position: absolute;border-left: 1px solid gray;box-sizing: border-box;top: 0;bottom: 0;left: 50%;z-index: -1;}#sk-container-id-1 div.sk-parallel-item {display: flex;flex-direction: column;z-index: 1;position: relative;background-color: white;}#sk-container-id-1 div.sk-parallel-item:first-child::after {align-self: flex-end;width: 50%;}#sk-container-id-1 div.sk-parallel-item:last-child::after {align-self: flex-start;width: 50%;}#sk-container-id-1 div.sk-parallel-item:only-child::after {width: 0;}#sk-container-id-1 div.sk-dashed-wrapped {border: 1px dashed gray;margin: 0 0.4em 0.5em 0.4em;box-sizing: border-box;padding-bottom: 0.4em;background-color: white;}#sk-container-id-1 div.sk-label label {font-family: monospace;font-weight: bold;display: inline-block;line-height: 1.2em;}#sk-container-id-1 div.sk-label-container {text-align: center;}#sk-container-id-1 div.sk-container {/* jupyter's `normalize.less` sets `[hidden] { display: none; }` but bootstrap.min.css set `[hidden] { display: none !important; }` so we also need the `!important` here to be able to override the default hidden behavior on the sphinx rendered scikit-learn.org. See: https://github.com/scikit-learn/scikit-learn/issues/21755 */display: inline-block !important;position: relative;}#sk-container-id-1 div.sk-text-repr-fallback {display: none;}</style><div id=\"sk-container-id-1\" class=\"sk-top-container\"><div class=\"sk-text-repr-fallback\"><pre>LogisticRegression(max_iter=6000, multi_class=&#x27;multinomial&#x27;)</pre><b>In a Jupyter environment, please rerun this cell to show the HTML representation or trust the notebook. <br />On GitHub, the HTML representation is unable to render, please try loading this page with nbviewer.org.</b></div><div class=\"sk-container\" hidden><div class=\"sk-item\"><div class=\"sk-estimator sk-toggleable\"><input class=\"sk-toggleable__control sk-hidden--visually\" id=\"sk-estimator-id-1\" type=\"checkbox\" checked><label for=\"sk-estimator-id-1\" class=\"sk-toggleable__label sk-toggleable__label-arrow\">LogisticRegression</label><div class=\"sk-toggleable__content\"><pre>LogisticRegression(max_iter=6000, multi_class=&#x27;multinomial&#x27;)</pre></div></div></div></div></div>"
            ]
          },
          "metadata": {},
          "execution_count": 5
        }
      ]
    },
    {
      "cell_type": "markdown",
      "source": [
        "#Next step:\n",
        "Create a function that returns the final prediction"
      ],
      "metadata": {
        "id": "1497rRi9yvC7"
      }
    },
    {
      "cell_type": "code",
      "source": [
        "def recommendation_ensemble(N, P, k, temperature, humidity, ph, rainfall):\n",
        "    features = np.array([[N, P, k, temperature, humidity, ph, rainfall]])\n",
        "    transformed_features = scaler.transform(features)\n",
        "    rfc_prediction = rfc.predict(transformed_features)\n",
        "    lr_prediction = lr.predict(transformed_features)\n",
        "    ensemble_features = np.column_stack((rfc_prediction, lr_prediction)) #converting 1D array into 2D\n",
        "    ensemble_prediction = meta_model.predict(ensemble_features).reshape(1, -1) #It simply means that it is an unknown dimension and we want numpy to figure it out.\n",
        "    #And numpy will figure this by looking at the 'length of the array and remaining dimensions' and making sure it satisfies the above mentioned criteria\n",
        "\n",
        "    final_prediction = np.argmax(np.bincount(ensemble_prediction[0])) #returns indices of max element of array\n",
        "    return final_prediction"
      ],
      "metadata": {
        "id": "zkkJYQZhuol4"
      },
      "execution_count": 6,
      "outputs": []
    },
    {
      "cell_type": "markdown",
      "source": [
        "#Input & Output"
      ],
      "metadata": {
        "id": "CQSIDaq90FB5"
      }
    },
    {
      "cell_type": "code",
      "source": [
        "N = 55\n",
        "P = 13\n",
        "k = 33\n",
        "temperature = 40.0\n",
        "humidity = 17\n",
        "ph = 10\n",
        "rainfall = 20\n",
        "\n",
        "ensemble_predict = recommendation_ensemble(N, P, k, temperature, humidity, ph, rainfall)\n",
        "if ensemble_predict in crop_dict.values():\n",
        "    recommended_crop = [key for key, value in crop_dict.items() if value == ensemble_predict][0]\n",
        "    print(\"{} is a recommended crop based on the ensemble model.\".format(recommended_crop))\n",
        "else:\n",
        "    print(\"Sorry, we are not able to recommend a proper crop for this environment.\")"
      ],
      "metadata": {
        "colab": {
          "base_uri": "https://localhost:8080/"
        },
        "id": "CR0VoYi3rUJo",
        "outputId": "54c3a646-1453-49db-a55e-c773fa88a519"
      },
      "execution_count": 7,
      "outputs": [
        {
          "output_type": "stream",
          "name": "stdout",
          "text": [
            "banana is a recommended crop based on the ensemble model.\n"
          ]
        },
        {
          "output_type": "stream",
          "name": "stderr",
          "text": [
            "/usr/local/lib/python3.10/dist-packages/sklearn/base.py:439: UserWarning: X does not have valid feature names, but StandardScaler was fitted with feature names\n",
            "  warnings.warn(\n"
          ]
        }
      ]
    },
    {
      "cell_type": "code",
      "source": [
        "from sklearn.metrics import accuracy_score, precision_score, recall_score\n",
        "accuracy = accuracy_score(ytest, meta_model.predict(xtest_ensemble))\n",
        "precision = precision_score(ytest, meta_model.predict(xtest_ensemble), average='weighted', zero_division=1)\n",
        "recall = recall_score(ytest, meta_model.predict(xtest_ensemble), average='weighted', zero_division=1)\n",
        "\n",
        "\n",
        "print(f\"Accuracy: {accuracy}\")\n",
        "print(f\"Precision: {precision}\")\n",
        "print(f\"Recall: {recall}\")"
      ],
      "metadata": {
        "colab": {
          "base_uri": "https://localhost:8080/"
        },
        "id": "AZF0vhQI8Ubx",
        "outputId": "5ec058b6-9e34-4d8f-bebb-3095e26d5f83"
      },
      "execution_count": 8,
      "outputs": [
        {
          "output_type": "stream",
          "name": "stdout",
          "text": [
            "Accuracy: 0.7613636363636364\n",
            "Precision: 0.8403555835656883\n",
            "Recall: 0.7613636363636364\n"
          ]
        }
      ]
    }
  ]
}